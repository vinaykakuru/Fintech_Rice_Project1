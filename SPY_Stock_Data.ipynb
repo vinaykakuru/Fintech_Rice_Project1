{
 "cells": [
  {
   "cell_type": "code",
   "execution_count": 6,
   "metadata": {},
   "outputs": [],
   "source": [
    "import requests\n",
    "import os\n",
    "import json\n",
    "import pandas as pd"
   ]
  },
  {
   "cell_type": "code",
   "execution_count": 7,
   "metadata": {},
   "outputs": [
    {
     "data": {
      "text/plain": [
       "str"
      ]
     },
     "execution_count": 7,
     "metadata": {},
     "output_type": "execute_result"
    }
   ],
   "source": [
    "alpha_vantage_key = os.environ.get('alpha_vantage_key')\n",
    "type(alpha_vantage_key)"
   ]
  },
  {
   "cell_type": "code",
   "execution_count": 8,
   "metadata": {},
   "outputs": [],
   "source": [
    "SPYRespone = requests.get(\"https://www.alphavantage.co/query?function=TIME_SERIES_INTRADAY&symbol=SPY&interval=60min&outputsize=full&apikey=\"+alpha_vantage_key)"
   ]
  },
  {
   "cell_type": "code",
   "execution_count": 9,
   "metadata": {},
   "outputs": [
    {
     "data": {
      "text/html": [
       "<div>\n",
       "<style scoped>\n",
       "    .dataframe tbody tr th:only-of-type {\n",
       "        vertical-align: middle;\n",
       "    }\n",
       "\n",
       "    .dataframe tbody tr th {\n",
       "        vertical-align: top;\n",
       "    }\n",
       "\n",
       "    .dataframe thead th {\n",
       "        text-align: right;\n",
       "    }\n",
       "</style>\n",
       "<table border=\"1\" class=\"dataframe\">\n",
       "  <thead>\n",
       "    <tr style=\"text-align: right;\">\n",
       "      <th></th>\n",
       "      <th>high</th>\n",
       "      <th>low</th>\n",
       "      <th>open</th>\n",
       "      <th>close</th>\n",
       "      <th>volume</th>\n",
       "    </tr>\n",
       "    <tr>\n",
       "      <th>date</th>\n",
       "      <th></th>\n",
       "      <th></th>\n",
       "      <th></th>\n",
       "      <th></th>\n",
       "      <th></th>\n",
       "    </tr>\n",
       "  </thead>\n",
       "  <tbody>\n",
       "    <tr>\n",
       "      <th>2019-09-18 15:30:00</th>\n",
       "      <td>301.2200</td>\n",
       "      <td>300.0050</td>\n",
       "      <td>300.0050</td>\n",
       "      <td>301.0900</td>\n",
       "      <td>10191171</td>\n",
       "    </tr>\n",
       "    <tr>\n",
       "      <th>2019-09-18 14:30:00</th>\n",
       "      <td>300.3575</td>\n",
       "      <td>298.5257</td>\n",
       "      <td>298.5720</td>\n",
       "      <td>300.0220</td>\n",
       "      <td>24600903</td>\n",
       "    </tr>\n",
       "    <tr>\n",
       "      <th>2019-09-18 13:30:00</th>\n",
       "      <td>300.5200</td>\n",
       "      <td>298.5700</td>\n",
       "      <td>299.6800</td>\n",
       "      <td>298.7800</td>\n",
       "      <td>15185359</td>\n",
       "    </tr>\n",
       "    <tr>\n",
       "      <th>2019-09-18 12:30:00</th>\n",
       "      <td>300.2450</td>\n",
       "      <td>299.6600</td>\n",
       "      <td>300.1550</td>\n",
       "      <td>299.6900</td>\n",
       "      <td>3569031</td>\n",
       "    </tr>\n",
       "    <tr>\n",
       "      <th>2019-09-18 11:30:00</th>\n",
       "      <td>300.2400</td>\n",
       "      <td>300.0200</td>\n",
       "      <td>300.1400</td>\n",
       "      <td>300.1500</td>\n",
       "      <td>3181030</td>\n",
       "    </tr>\n",
       "  </tbody>\n",
       "</table>\n",
       "</div>"
      ],
      "text/plain": [
       "                         high       low      open     close    volume\n",
       "date                                                                 \n",
       "2019-09-18 15:30:00  301.2200  300.0050  300.0050  301.0900  10191171\n",
       "2019-09-18 14:30:00  300.3575  298.5257  298.5720  300.0220  24600903\n",
       "2019-09-18 13:30:00  300.5200  298.5700  299.6800  298.7800  15185359\n",
       "2019-09-18 12:30:00  300.2450  299.6600  300.1550  299.6900   3569031\n",
       "2019-09-18 11:30:00  300.2400  300.0200  300.1400  300.1500   3181030"
      ]
     },
     "execution_count": 9,
     "metadata": {},
     "output_type": "execute_result"
    }
   ],
   "source": [
    "SPY_date = []\n",
    "SPY_high = []\n",
    "SPY_low = []\n",
    "SPY_open = []\n",
    "SPY_close = []\n",
    "SPY_volume = []\n",
    "\n",
    "for k in SPYRespone.json()[\"Time Series (60min)\"].keys():\n",
    "    SPY_date.append(k)\n",
    "    SPY_open.append(SPYRespone.json()[\"Time Series (60min)\"][k]['1. open'])\n",
    "    SPY_high.append(SPYRespone.json()[\"Time Series (60min)\"][k]['2. high'])\n",
    "    SPY_low.append(SPYRespone.json()[\"Time Series (60min)\"][k]['3. low'])\n",
    "    SPY_close.append(SPYRespone.json()[\"Time Series (60min)\"][k]['4. close'])\n",
    "    SPY_volume.append(SPYRespone.json()[\"Time Series (60min)\"][k]['5. volume'])\n",
    "    \n",
    "zippedList =  list(zip(SPY_date, SPY_high, SPY_low, SPY_open, SPY_close, SPY_volume))\n",
    "concat_dataframe = pd.DataFrame(zippedList, columns = ['date' , 'high', 'low', 'open', 'close', 'volume'])\n",
    "data_frame = concat_dataframe.set_index(pd.DatetimeIndex(concat_dataframe['date'])).drop(columns = 'date')\n",
    "data_frame.head()"
   ]
  },
  {
   "cell_type": "code",
   "execution_count": null,
   "metadata": {},
   "outputs": [],
   "source": []
  },
  {
   "cell_type": "code",
   "execution_count": null,
   "metadata": {},
   "outputs": [],
   "source": []
  }
 ],
 "metadata": {
  "kernelspec": {
   "display_name": "Python 3",
   "language": "python",
   "name": "python3"
  },
  "language_info": {
   "codemirror_mode": {
    "name": "ipython",
    "version": 3
   },
   "file_extension": ".py",
   "mimetype": "text/x-python",
   "name": "python",
   "nbconvert_exporter": "python",
   "pygments_lexer": "ipython3",
   "version": "3.7.3"
  }
 },
 "nbformat": 4,
 "nbformat_minor": 4
}
