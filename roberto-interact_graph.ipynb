{
 "cells": [
  {
   "cell_type": "code",
   "execution_count": null,
   "metadata": {},
   "outputs": [],
   "source": [
    "# Use hvplot to create an interactive line chart of the average price per sq ft.\n",
    "# The plot should have a dropdown selector for the neighborhood\n",
    "# EXAMPLE CODE, DELETE LATER!!!!!\n",
    "\n",
    "# Calculate the average sale price per square foot\n",
    "sales_price_sqr_foot = (\n",
    "    sfo_data.reset_index().groupby(['year','neighborhood'],as_index=False).mean()\n",
    ")\n",
    "\n",
    "\n",
    "# Use hvplot to create an interactive line chart of the average price per sq ft.\n",
    "def average_price_zip_code(zip_code):\n",
    "    \n",
    "    zip_code_prices = sales_price_sqr_foot.loc[sales_price_sqr_foot['zip code']==zip_code]\n",
    "    \n",
    "    price_sqr_foot_title = f'{zip_code} Average Sale Price'\n",
    "    \n",
    "    zip_code_avg_price = zip_code_prices.hvplot.line(\n",
    "            x='year',\n",
    "            y='sale_price_sqr_foot',\n",
    "            width=900,\n",
    "            height=450,\n",
    "            title=price_sqr_foot_title,\n",
    "            xlabel='Date',\n",
    "            ylabel='Avg. Sale Price per Square Foot'\n",
    "        )\n",
    "\n",
    "    return neighborhood_avg_price\n",
    "\n",
    "# Use interact function to create interaction widget\n",
    "list_of_zip_codes = sales_price_sqr_foot['zip code']\n",
    "\n",
    "interact(average_price_zip_code, zip_code=list_of_zip_codes)"
   ]
  }
 ],
 "metadata": {
  "kernelspec": {
   "display_name": "Python 3",
   "language": "python",
   "name": "python3"
  },
  "language_info": {
   "codemirror_mode": {
    "name": "ipython",
    "version": 3
   },
   "file_extension": ".py",
   "mimetype": "text/x-python",
   "name": "python",
   "nbconvert_exporter": "python",
   "pygments_lexer": "ipython3",
   "version": "3.7.3"
  }
 },
 "nbformat": 4,
 "nbformat_minor": 2
}
